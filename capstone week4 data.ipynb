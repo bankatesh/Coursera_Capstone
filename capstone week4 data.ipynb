{
 "cells": [
  {
   "cell_type": "markdown",
   "metadata": {},
   "source": [
    "<h1>Capstone Project - The Battle of Neighborhoods</h1>"
   ]
  },
  {
   "cell_type": "markdown",
   "metadata": {},
   "source": [
    "<h3>Data Section</h3>"
   ]
  },
  {
   "cell_type": "markdown",
   "metadata": {},
   "source": [
    "London is highly populated city with very diverse ethinicity. <br>\n",
    "According to 2011 census, London has a population of 8,173,941. Out of this, 44.9% were British, 37% of\n",
    "the population were born in Europe other than britain, including 24.5% born outside of Europe.\n",
    "Since people of Asian ehinicity are in large number so we will target Asian audience"
   ]
  },
  {
   "cell_type": "markdown",
   "metadata": {},
   "source": [
    "1. Population of target audience in all the boroughs of London based on their :\n",
    "   Asian ethnicity\n",
    "    Age\n",
    "    Gender\n",
    "    Marital Status\n",
    "    Employment Status\n",
    "    Income\n",
    "2. We also need the data about the required Business floorspace and Rateable Value\n",
    "   statistics of each borough.\n",
    "3. Considering the competitors factor, we also need the data of extsing Licensed\n",
    "   Restaurants in each borough.\n",
    "4. And lastly we will also consider the borough level tourist and domestic annual spend\n",
    "   estimates."
   ]
  },
  {
   "cell_type": "markdown",
   "metadata": {},
   "source": [
    "We can gather above data from  https://data.london.gov.uk/"
   ]
  },
  {
   "cell_type": "code",
   "execution_count": null,
   "metadata": {},
   "outputs": [],
   "source": []
  }
 ],
 "metadata": {
  "kernelspec": {
   "display_name": "Python 2",
   "language": "python",
   "name": "python2"
  },
  "language_info": {
   "codemirror_mode": {
    "name": "ipython",
    "version": 2
   },
   "file_extension": ".py",
   "mimetype": "text/x-python",
   "name": "python",
   "nbconvert_exporter": "python",
   "pygments_lexer": "ipython2",
   "version": "2.7.16"
  }
 },
 "nbformat": 4,
 "nbformat_minor": 2
}
