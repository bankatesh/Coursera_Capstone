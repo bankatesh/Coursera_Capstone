{
 "cells": [
  {
   "cell_type": "markdown",
   "metadata": {},
   "source": [
    "<h1>Capstone Project - The Battle of Neighborhoods</h1>"
   ]
  },
  {
   "cell_type": "markdown",
   "metadata": {},
   "source": [
    "<h2>Introduction to Business Problem</h2>"
   ]
  },
  {
   "cell_type": "markdown",
   "metadata": {},
   "source": [
    "<h3>How can we choose the best location to start a Restaurant in London</h3>"
   ]
  },
  {
   "cell_type": "markdown",
   "metadata": {},
   "source": [
    " Bussiness of any restaurant depends on many factor but major factor which influences it the mot is its location.With location as mojor factor other factor which affects is ,what kind of audience you want to target, how competitive the environment is and population of the area.The steps which we can take to to achieve our goal are : "
   ]
  },
  {
   "cell_type": "markdown",
   "metadata": {},
   "source": [
    "1. Our Target Audience:\n",
    "Before opening any restaurant in London, we need to be familiar to whome exactly we are aiming to bring into our restaurant. Am I targeting audience from or Indian or Italian or any other ? We also need to be aware of the age\n",
    "group, the location, the amount of money they are willing to spend."
   ]
  },
  {
   "cell_type": "markdown",
   "metadata": {},
   "source": [
    "2. Who are our competitor:\n",
    "    We need to be aware of any similar bussiness in that area and all the famous restaurants targeting same audience.\n",
    "    We should be aware of their menu, service and everything\n",
    "    "
   ]
  },
  {
   "cell_type": "markdown",
   "metadata": {},
   "source": [
    "3. Area and location:\n",
    "While considering location we should keep in mind some factors like<br> \n",
    "How accessible the location is<br>\n",
    "what kind of building it is and is it costly? "
   ]
  },
  {
   "cell_type": "code",
   "execution_count": null,
   "metadata": {},
   "outputs": [],
   "source": []
  }
 ],
 "metadata": {
  "kernelspec": {
   "display_name": "Python 2",
   "language": "python",
   "name": "python2"
  },
  "language_info": {
   "codemirror_mode": {
    "name": "ipython",
    "version": 2
   },
   "file_extension": ".py",
   "mimetype": "text/x-python",
   "name": "python",
   "nbconvert_exporter": "python",
   "pygments_lexer": "ipython2",
   "version": "2.7.16"
  }
 },
 "nbformat": 4,
 "nbformat_minor": 2
}
